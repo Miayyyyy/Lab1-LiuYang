{
 "cells": [
  {
   "cell_type": "markdown",
   "metadata": {
    "id": "531nzudAnqC_"
   },
   "source": [
    "#**LAB 1: List basics**\n",
    "\n",
    "Given the user inputs, complete a program that does the following tasks:\n",
    "- Define a list, `myList`, containing the user inputs `myFlower1`, `myFlower2`, and `myFlower3` in the same order.\n",
    "- Define a list, `yourList`, containing the user inputs `yourFlower1` and `yourFlower2` in the same order.\n",
    "- Define a list, `ourList`, by concatenating `myList` and `yourList`.\n",
    "- Append the user input `theirFlower` to the end of `ourList`.\n",
    "- Replace `myFlower2` in `ourList` with `theirFlower`.\n",
    "- Remove the third element of `ourList`.\n",
    "\n",
    "Observe the output of each print statement carefully to understand what was done by each task of the program.\n",
    "\n",
    "Ex: If the input is:\n",
    "\n",
    "```\n",
    "rose\n",
    "peony\n",
    "lily\n",
    "rose\n",
    "daisy\n",
    "aster\n",
    "```\n",
    "the output is:\n",
    "\n",
    "```\n",
    "['rose', 'peony', 'lily']\n",
    "['rose', 'daisy']\n",
    "['rose', 'peony', 'lily', 'rose', 'daisy']\n",
    "['rose', 'peony', 'lily', 'rose', 'daisy', 'aster']\n",
    "['rose', 'aster', 'lily', 'rose', 'daisy', 'aster']\n",
    "['rose', 'aster', 'rose', 'daisy', 'aster']\n",
    "\n",
    "```\n"
   ]
  },
  {
   "cell_type": "code",
   "execution_count": 2,
   "metadata": {
    "colab": {
     "base_uri": "https://localhost:8080/"
    },
    "id": "sXmUuZIsnpkp",
    "outputId": "ba1476a9-8687-49b1-dd83-67ec23fe4a4d"
   },
   "outputs": [
    {
     "name": "stdout",
     "output_type": "stream",
     "text": [
      "rose\n",
      "peony\n",
      "lily\n",
      "rose\n",
      "daisy\n",
      "aster\n",
      "['rose', 'peony', 'lily']\n",
      "['rose', 'daisy']\n",
      "['rose', 'peony', 'lily', 'rose', 'daisy']\n",
      "['rose', 'peony', 'lily', 'rose', 'daisy', 'aster']\n",
      "['rose', 'aster', 'lily', 'rose', 'daisy', 'aster']\n",
      "['rose', 'aster', 'rose', 'daisy', 'aster']\n"
     ]
    }
   ],
   "source": [
    "# Taking user inputs\n",
    "myFlower1 = input()\n",
    "myFlower2 = input()\n",
    "myFlower3 = input()\n",
    "\n",
    "yourFlower1 = input()\n",
    "yourFlower2 = input()\n",
    "\n",
    "theirFlower = input()\n",
    "\n",
    "# Define myList containing myFlower1, myFlower2, and myFlower3 in that order\n",
    "# Your code here\n",
    "myList = [myFlower1, myFlower2, myFlower3]\n",
    "print(myList)\n",
    "\n",
    "# Define yourList containing yourFlower1 and yourFlower2 in that order\n",
    "# Your code here\n",
    "yourList = [yourFlower1, yourFlower2]\n",
    "print(yourList)\n",
    "\n",
    "# Define ourList by concatenating myList and yourList\n",
    "# Your code here\n",
    "ourList = myList + yourList\n",
    "print(ourList)\n",
    "\n",
    "# Append theirFlower to the end of ourList\n",
    "# Your code here\n",
    "ourList.append(theirFlower)\n",
    "print(ourList)\n",
    "\n",
    "# Replace myFlower2 in our_list with theirFlower\n",
    "# Your code here\n",
    "ourList[ourList.index(myFlower2)] = theirFlower\n",
    "print(ourList)\n",
    "\n",
    "# Remove the third element of ourList\n",
    "# Your code here\n",
    "del ourList[2]\n",
    "print(ourList)"
   ]
  },
  {
   "cell_type": "markdown",
   "metadata": {
    "id": "xH1CA_NIqIhI"
   },
   "source": [
    "#**LAB 2: Set basics**\n",
    "\n",
    "Given the user inputs, complete a program that does the following tasks:\n",
    "- Define a set, `fruits`, containing the user inputs `myFruit1`, `myFruit2`, and `myFruit3`.\n",
    "- Add the user input `theirFruit` to `fruits`.\n",
    "- Find the intersection of `fruits` and `yourFruit1` and `yourFruit2`\n",
    "- Remove `myFruit1` from `fruits`.\n",
    "\n",
    "Note: For testing purposes, sets are printed using sorted() for comparison.\n",
    "\n",
    "Ex: If the input is:\n",
    "\n",
    "```\n",
    "apple\n",
    "peach\n",
    "lemon\n",
    "apple\n",
    "pear\n",
    "plum\n",
    "```\n",
    "the output is:\n",
    "\n",
    "```\n",
    "['apple', 'lemon', 'peach']\n",
    "['apple', 'lemon', 'peach', 'plum']\n",
    "['apple']\n",
    "['lemon', 'peach', 'plum']\n",
    "```\n"
   ]
  },
  {
   "cell_type": "code",
   "execution_count": 3,
   "metadata": {
    "colab": {
     "base_uri": "https://localhost:8080/"
    },
    "id": "qZ1WOx-BqQCs",
    "outputId": "4b387f32-2996-47f2-ba3a-5f16e079c5c8"
   },
   "outputs": [
    {
     "name": "stdout",
     "output_type": "stream",
     "text": [
      "apple\n",
      "peach\n",
      "lemon\n",
      "apple\n",
      "pear\n",
      "plum\n",
      "['apple', 'lemon', 'peach']\n",
      "['apple', 'lemon', 'peach', 'plum']\n",
      "['apple']\n",
      "['lemon', 'peach', 'plum']\n"
     ]
    }
   ],
   "source": [
    "myFruit1 = input()\n",
    "myFruit2 = input()\n",
    "myFruit3 = input()\n",
    "\n",
    "yourFruit1 = input()\n",
    "yourFruit2 = input()\n",
    "\n",
    "theirFruit = input()\n",
    "\n",
    "# Define a set, fruits, containing myFruit1, myFruit2, and myFruit3\n",
    "# Your code here\n",
    "fruits = {myFruit1, myFruit2, myFruit3}\n",
    "print(sorted(fruits))\n",
    "\n",
    "# Add theirFruit to fruits\n",
    "# Your code here\n",
    "fruits.add(theirFruit)\n",
    "print(sorted(fruits))\n",
    "\n",
    "# Find the intersection of fruits and yourFruit1 and yourFruit2\n",
    "fruitsInter = fruits.intersection({yourFruit1, yourFruit2})\n",
    "print(sorted(fruitsInter))\n",
    "\n",
    "# Remove myFruit1 from fruits\n",
    "# Your code here\n",
    "fruits.discard(myFruit1)\n",
    "print(sorted(fruits))"
   ]
  },
  {
   "cell_type": "markdown",
   "metadata": {
    "id": "RJ9d97R-qwPn"
   },
   "source": [
    "#**LAB 3: Importing packages**\n",
    "\n",
    "Import the necessary modules and read in a csv file. The `homes` dataset contains 18 features giving the characteristics of 76 homes being sold. The modules will be used with the `homes.csv` file to perform a linear regression. Linear regression will be covered in a different chapter.\n",
    "\n",
    "- Import the `NumPy` and `pandas` packages with the aliases used in this material\n",
    "- Import the function `LinearRegression` from the `sklearn.linear_model` package\n",
    "- Read in the csv file `homes.csv`\n",
    "\n",
    "Ex: If the csv file `homes_small.csv` is used instead of `homes.csv`, the output is:\n",
    "```\n",
    "The intercept of the regression is 249.522\n",
    "The slope of the regression is 36.758\n",
    "```"
   ]
  },
  {
   "cell_type": "code",
   "execution_count": null,
   "metadata": {
    "colab": {
     "base_uri": "https://localhost:8080/",
     "height": 365
    },
    "id": "YM4TSud6q1b5",
    "outputId": "7fe2867c-9e44-4b80-8634-2e0b94307383"
   },
   "outputs": [
    {
     "name": "stdout",
     "output_type": "stream",
     "text": [
      "The intercept of the regression is 173.058\n",
      "The slope of the regression is 57.216\n"
     ]
    }
   ],
   "source": [
    "# Import NumPy and pandas\n",
    "# Your code here\n",
    "import numpy as np\n",
    "import pandas as pd\n",
    "\n",
    "# Import the LinearRegression function from sklearn.linear_model\n",
    "# Your code here\n",
    "from sklearn.linear_model import LinearRegression\n",
    "\n",
    "# Read in the csv file homes.csv\n",
    "homes = pd.read_csv(\"homes.csv\")\n",
    "\n",
    "# Store relevant columns as variables\n",
    "y = homes['Price']\n",
    "y = np.reshape(y.values, (-1,1))\n",
    "X = homes['Floor']\n",
    "X = np.reshape(X.values, (-1,1))\n",
    "\n",
    "# Fit a least squares regression model\n",
    "linModel = LinearRegression()\n",
    "linModel.fit(X,y)\n",
    "\n",
    "# Print the intercept and slope of the regression.\n",
    "print('The intercept of the regression is ', end=\"\")\n",
    "print('%.3f' % linModel.intercept_)\n",
    "\n",
    "print('The slope of the regression is ', end=\"\")\n",
    "print('%.3f' % linModel.coef_)"
   ]
  }
 ],
 "metadata": {
  "colab": {
   "provenance": []
  },
  "kernelspec": {
   "display_name": "Python 3 (ipykernel)",
   "language": "python",
   "name": "python3"
  },
  "language_info": {
   "codemirror_mode": {
    "name": "ipython",
    "version": 3
   },
   "file_extension": ".py",
   "mimetype": "text/x-python",
   "name": "python",
   "nbconvert_exporter": "python",
   "pygments_lexer": "ipython3",
   "version": "3.9.7"
  }
 },
 "nbformat": 4,
 "nbformat_minor": 1
}
